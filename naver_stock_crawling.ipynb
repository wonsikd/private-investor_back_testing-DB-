{
 "cells": [
  {
   "cell_type": "markdown",
   "id": "8cc5b448",
   "metadata": {},
   "source": [
    "# 네이버 주식 종목토론방 크롤링 및 저장\n",
    "\n",
    "본 코드는 다음의 사이트에서 참조를 하였습니다. 크롤링 세부 내용을 확인하려면 다음의 링크로 들어가시길 바라겠습니다.\n",
    "\n",
    "출처 : 네이버 종목게시판 크롤링 / 디지털 노마드\n",
    "링크 : https://lesrois.tistory.com/23"
   ]
  },
  {
   "cell_type": "markdown",
   "id": "8c8ae3ae",
   "metadata": {},
   "source": [
    "## 1. 필요 라이브러리 설치\n"
   ]
  },
  {
   "cell_type": "code",
   "execution_count": 1,
   "id": "8c59f4cd",
   "metadata": {
    "ExecuteTime": {
     "end_time": "2022-03-29T07:34:03.702282Z",
     "start_time": "2022-03-29T07:34:02.525378Z"
    }
   },
   "outputs": [],
   "source": [
    "#%pip install pandas-datareader\n",
    "#!pip install -U finance-datareader\n",
    "import pandas as pd\n",
    "import numpy as np\n",
    "import datetime\n",
    "import pandas_datareader as pdr\n",
    "from datetime import datetime, timedelta#,strptime\n",
    "import matplotlib.pyplot as plt\n",
    "from bs4 import BeautifulSoup\n",
    "import requests\n",
    "import re\n",
    "\n",
    "import os \n",
    "\n",
    "plt.rcParams[\"figure.figsize\"] = (12, 4)"
   ]
  },
  {
   "cell_type": "markdown",
   "id": "e6af98c8",
   "metadata": {
    "ExecuteTime": {
     "end_time": "2022-02-28T14:18:32.274935Z",
     "start_time": "2022-02-28T14:18:31.860882Z"
    }
   },
   "source": [
    "## 2. 크롤링 코드\n",
    "\n",
    "###   다음은 불러올 종목의 코드를 입력후, input_word에 원하는 검색어를 입력하면 원하는 단어가 포함된 게시글만 가져옵니다.\n",
    "### 본 프로젝트에서는 전 게시글을 가져오므로 input_word를 빈칸으로 둡니다. 또한, 게시글이 많을경우 시간을 \n",
    "### 고려해서 전체 게시물 수에 따라 넘기는 페이지 수가 다릅니다.\n",
    "\n",
    "### 전체게시글 1000개 이상 -> 5페이지씩 게시글을 가져옵니다.\n",
    "### 전체게시글 5000개 이상 -> 10페이지씩 게시글을 가져옵니다.\n",
    "### 전체게시글 10000개 이상 -> 50페이지씩 게시글을 가져옵니다.\n",
    "### 전체게시글 30000개 이상 -> 100페이지씩 게시글을 가져옵니다."
   ]
  },
  {
   "cell_type": "code",
   "execution_count": 8,
   "id": "9a0ac4c1",
   "metadata": {
    "ExecuteTime": {
     "end_time": "2022-02-28T14:42:17.864968Z",
     "start_time": "2022-02-28T14:42:17.783490Z"
    }
   },
   "outputs": [],
   "source": [
    "def roop_page(acodes=\"s\",input_words=\"s\"):\n",
    "    total_dt = pd.DataFrame([])\n",
    "    headers = {'User-Agent' : 'Mozilla/5.0 (Macintosh; Intel Mac OS X 10_15_3)'}\n",
    "    input_word=input_words\n",
    "    acode=acodes\n",
    "    n_ = 0\n",
    "    \n",
    "                \n",
    "    page=1\n",
    "\n",
    "    url = \"https://finance.naver.com/item/board.nhn?code=\" + str(acode) + '&st=title&sw='+input_word+'&page='+ '100000'\n",
    "    #print(url)\n",
    "    #headers = {'User-Agent' : 'Mozilla/5.0 (Macintosh; Intel Mac OS X 10_15_3)'}\n",
    "    result = requests.get(url, headers = headers)\n",
    "    bs_obj = BeautifulSoup(result.content, \"html.parser\")\n",
    "    table = bs_obj.find('td', {'class' : 'on'})\n",
    "    max_page=int(table.text.replace(\"\\n\",\"\").replace(\",\",\"\"))\n",
    "    page_skip=1\n",
    "\n",
    "    if max_page > 1000:\n",
    "        page_skip=5\n",
    "\n",
    "    if max_page > 5000:\n",
    "        page_skip=10\n",
    "\n",
    "    if max_page > 10000:\n",
    "        page_skip=50\n",
    "\n",
    "    if max_page > 30000:\n",
    "        page_skip=100\n",
    "\n",
    "\n",
    "\n",
    "\n",
    "\n",
    "\n",
    "    while True:\n",
    "        n_ += page_skip\n",
    "        if (n_ % 10 == 0):\n",
    "            print('================== Page ' + str(page) + ' is done ==================')\n",
    "\n",
    "        url = \"https://finance.naver.com/item/board.nhn?code=\" + str(acode) + '&st=title&sw='+input_word+'&page='+ str(page)\n",
    "        result = requests.get(url, headers = headers)\n",
    "        bs_obj = BeautifulSoup(result.content, \"html.parser\")\n",
    "        table = bs_obj.find('table', {'class' : 'type2'})\n",
    "        tt = table.select('tbody > tr')\n",
    "\n",
    "        for i in range(2, len(tt)):\n",
    "            if len(tt[i].select('td > span')) > 0:\n",
    "                date = tt[i].select('td > span')[0].text\n",
    "                title = tt[i].select('td.title > a')[0]['title']\n",
    "                writer = tt[i].select('td.p11')[0].text.replace('\\t', '').replace('\\n', '')\n",
    "                views = tt[i].select('td > span')[1].text\n",
    "                pos = tt[i].select('td > strong')[0].text\n",
    "                neg = tt[i].select('td > strong')[1].text\n",
    "\n",
    "                table = pd.DataFrame({'날짜' : [date], \n",
    "                                    '제목' : [title],\n",
    "                                    '글쓴이' : [writer],\n",
    "                                    '조회' : [int(views)],\n",
    "                                    '공감' : [int(pos)],\n",
    "                                    '비공감' : [int(neg)]\n",
    "                                    })\n",
    "                total_dt = total_dt.append(table)\n",
    "        page+=page_skip\n",
    "\n",
    "\n",
    "        try:\n",
    "            if len(total_dt_prev[(total_dt_prev[\"제목\"]==title) & (total_dt_prev[\"날짜\"]==date )].dropna())!=0  :\n",
    "                print(\"전 게시글을 가져왔습니다.\")\n",
    "                break\n",
    "            else:\n",
    "                total_dt_prev=total_dt\n",
    "        except:\n",
    "            print(\"오류가 발생했습니다.\")\n",
    "            total_dt_prev=total_dt\n",
    "\n",
    "\n",
    "\n",
    "\n",
    "\n",
    "    total_dt=total_dt.drop_duplicates()\n",
    "\n",
    "    return total_dt\n",
    "\n",
    "\n",
    " \n",
    "\n",
    "    \n",
    "def naver_crawler(root,acode,search_keyword=\"\"):\n",
    "    headers = {'User-Agent' : 'Mozilla/5.0 (Macintosh; Intel Mac OS X 10_15_3)'}\n",
    "    total_dt = pd.DataFrame([])\n",
    "    page_skip=0\n",
    "    \n",
    "    Date=0\n",
    "\n",
    "    Page=1\n",
    "    \n",
    "    input_word=search_keyword\n",
    "    \n",
    "    total_dt=roop_page(acodes=acode,input_words=input_word)\n",
    "    \n",
    "    total_dt=total_dt.drop_duplicates()\n",
    "    return total_dt\n"
   ]
  },
  {
   "cell_type": "markdown",
   "id": "1306f4a5",
   "metadata": {},
   "source": [
    "# 유니버스 엑셀파일을 불러온뒤 데이터프레임화 과정입니다. "
   ]
  },
  {
   "cell_type": "code",
   "execution_count": 10,
   "id": "3a882566",
   "metadata": {
    "ExecuteTime": {
     "end_time": "2022-02-28T14:46:25.245636Z",
     "start_time": "2022-02-28T14:46:19.505996Z"
    }
   },
   "outputs": [
    {
     "data": {
      "text/html": [
       "<div>\n",
       "<style scoped>\n",
       "    .dataframe tbody tr th:only-of-type {\n",
       "        vertical-align: middle;\n",
       "    }\n",
       "\n",
       "    .dataframe tbody tr th {\n",
       "        vertical-align: top;\n",
       "    }\n",
       "\n",
       "    .dataframe thead th {\n",
       "        text-align: right;\n",
       "    }\n",
       "</style>\n",
       "<table border=\"1\" class=\"dataframe\">\n",
       "  <thead>\n",
       "    <tr style=\"text-align: right;\">\n",
       "      <th></th>\n",
       "      <th>0</th>\n",
       "      <th>0</th>\n",
       "      <th>0</th>\n",
       "      <th>0</th>\n",
       "      <th>0</th>\n",
       "      <th>0</th>\n",
       "      <th>0</th>\n",
       "      <th>0</th>\n",
       "      <th>0</th>\n",
       "      <th>0</th>\n",
       "      <th>...</th>\n",
       "      <th>0</th>\n",
       "      <th>0</th>\n",
       "      <th>0</th>\n",
       "      <th>0</th>\n",
       "      <th>0</th>\n",
       "      <th>0</th>\n",
       "      <th>0</th>\n",
       "      <th>0</th>\n",
       "      <th>0</th>\n",
       "      <th>0</th>\n",
       "    </tr>\n",
       "  </thead>\n",
       "  <tbody>\n",
       "    <tr>\n",
       "      <th>0</th>\n",
       "      <td>095570</td>\n",
       "      <td>068400</td>\n",
       "      <td>006840</td>\n",
       "      <td>027410</td>\n",
       "      <td>282330</td>\n",
       "      <td>138930</td>\n",
       "      <td>001460</td>\n",
       "      <td>001465</td>\n",
       "      <td>001040</td>\n",
       "      <td>079160</td>\n",
       "      <td>...</td>\n",
       "      <td>139990</td>\n",
       "      <td>271940</td>\n",
       "      <td>395400</td>\n",
       "      <td>329180</td>\n",
       "      <td>377300</td>\n",
       "      <td>381970</td>\n",
       "      <td>400760</td>\n",
       "      <td>402340</td>\n",
       "      <td>396690</td>\n",
       "      <td>404990</td>\n",
       "    </tr>\n",
       "  </tbody>\n",
       "</table>\n",
       "<p>1 rows × 941 columns</p>\n",
       "</div>"
      ],
      "text/plain": [
       "        0       0       0       0       0       0       0       0       0  \\\n",
       "0  095570  068400  006840  027410  282330  138930  001460  001465  001040   \n",
       "\n",
       "        0  ...       0       0       0       0       0       0       0  \\\n",
       "0  079160  ...  139990  271940  395400  329180  377300  381970  400760   \n",
       "\n",
       "        0       0       0  \n",
       "0  402340  396690  404990  \n",
       "\n",
       "[1 rows x 941 columns]"
      ]
     },
     "execution_count": 10,
     "metadata": {},
     "output_type": "execute_result"
    }
   ],
   "source": [
    "universe_data=pd.read_excel(\"universe.xlsx\").티커\n",
    "\n",
    "for index,k in enumerate(universe_data):\n",
    "    code_list=[]\n",
    "\n",
    "    try:\n",
    "        if len(str(int(k))) != 6:\n",
    "            code=( 6 - len(str(int(k))) )*\"0\" + str(int(k))\n",
    "            code_list.append(code)\n",
    "\n",
    "        else:\n",
    "            code_list.append(str(int(k)))\n",
    "\n",
    "    except:\n",
    "        continue\n",
    "\n",
    "    if index==0:\n",
    "        code_df=pd.DataFrame(code_list)\n",
    "    else:\n",
    "        code_df=pd.concat([code_df, pd.DataFrame(code_list) ],axis=1)\n",
    "        \n",
    "#code_df.columns=universe_data.columns\n",
    "code_df"
   ]
  },
  {
   "cell_type": "markdown",
   "id": "e0b9081b",
   "metadata": {},
   "source": [
    "# 3. 유니버스 내의 모든 종목을 하나씩 for문으로 게시글을 크롤링해 csv파일로 저장하는 과정입니다."
   ]
  },
  {
   "cell_type": "code",
   "execution_count": 11,
   "id": "3af8f279",
   "metadata": {
    "ExecuteTime": {
     "end_time": "2022-02-28T14:47:17.130733Z",
     "start_time": "2022-02-28T14:46:33.604486Z"
    }
   },
   "outputs": [
    {
     "name": "stdout",
     "output_type": "stream",
     "text": [
      "0\n",
      "오류가 발생했습니다.\n",
      "================== Page 10 is done ==================\n",
      "================== Page 20 is done ==================\n"
     ]
    },
    {
     "ename": "KeyboardInterrupt",
     "evalue": "",
     "output_type": "error",
     "traceback": [
      "\u001b[1;31m---------------------------------------------------------------------------\u001b[0m",
      "\u001b[1;31mKeyboardInterrupt\u001b[0m                         Traceback (most recent call last)",
      "\u001b[1;32m<ipython-input-11-bfa7eecf5be2>\u001b[0m in \u001b[0;36m<module>\u001b[1;34m\u001b[0m\n\u001b[0;32m     21\u001b[0m         \u001b[0mfile1\u001b[0m\u001b[1;33m=\u001b[0m\u001b[0mroot2\u001b[0m \u001b[1;33m+\u001b[0m \u001b[0mcode\u001b[0m \u001b[1;33m+\u001b[0m \u001b[1;34m\"2021-12-31.csv\"\u001b[0m\u001b[1;33m\u001b[0m\u001b[1;33m\u001b[0m\u001b[0m\n\u001b[0;32m     22\u001b[0m         \u001b[0msearch_keyword\u001b[0m\u001b[1;33m=\u001b[0m\u001b[1;34m\"\"\u001b[0m\u001b[1;33m\u001b[0m\u001b[1;33m\u001b[0m\u001b[0m\n\u001b[1;32m---> 23\u001b[1;33m         \u001b[0mdata\u001b[0m\u001b[1;33m=\u001b[0m\u001b[0mnaver_crawler\u001b[0m\u001b[1;33m(\u001b[0m\u001b[0mroot2\u001b[0m\u001b[1;33m,\u001b[0m\u001b[0mcode\u001b[0m\u001b[1;33m,\u001b[0m\u001b[0msearch_keyword\u001b[0m\u001b[1;33m=\u001b[0m\u001b[1;34m\"\"\u001b[0m\u001b[1;33m)\u001b[0m\u001b[1;33m\u001b[0m\u001b[1;33m\u001b[0m\u001b[0m\n\u001b[0m\u001b[0;32m     24\u001b[0m         \u001b[0mdata\u001b[0m\u001b[1;33m.\u001b[0m\u001b[0mto_csv\u001b[0m\u001b[1;33m(\u001b[0m\u001b[0mfile1\u001b[0m\u001b[1;33m,\u001b[0m\u001b[0mencoding\u001b[0m\u001b[1;33m=\u001b[0m\u001b[1;34m'utf-8-sig'\u001b[0m\u001b[1;33m)\u001b[0m\u001b[1;33m\u001b[0m\u001b[1;33m\u001b[0m\u001b[0m\n",
      "\u001b[1;32m<ipython-input-8-af8e3962a3f9>\u001b[0m in \u001b[0;36mnaver_crawler\u001b[1;34m(root, acode, search_keyword)\u001b[0m\n\u001b[0;32m     99\u001b[0m     \u001b[0minput_word\u001b[0m\u001b[1;33m=\u001b[0m\u001b[0msearch_keyword\u001b[0m\u001b[1;33m\u001b[0m\u001b[1;33m\u001b[0m\u001b[0m\n\u001b[0;32m    100\u001b[0m \u001b[1;33m\u001b[0m\u001b[0m\n\u001b[1;32m--> 101\u001b[1;33m     \u001b[0mtotal_dt\u001b[0m\u001b[1;33m=\u001b[0m\u001b[0mroop_page\u001b[0m\u001b[1;33m(\u001b[0m\u001b[0macodes\u001b[0m\u001b[1;33m=\u001b[0m\u001b[0macode\u001b[0m\u001b[1;33m,\u001b[0m\u001b[0minput_words\u001b[0m\u001b[1;33m=\u001b[0m\u001b[0minput_word\u001b[0m\u001b[1;33m)\u001b[0m\u001b[1;33m\u001b[0m\u001b[1;33m\u001b[0m\u001b[0m\n\u001b[0m\u001b[0;32m    102\u001b[0m \u001b[1;33m\u001b[0m\u001b[0m\n\u001b[0;32m    103\u001b[0m     \u001b[0mtotal_dt\u001b[0m\u001b[1;33m=\u001b[0m\u001b[0mtotal_dt\u001b[0m\u001b[1;33m.\u001b[0m\u001b[0mdrop_duplicates\u001b[0m\u001b[1;33m(\u001b[0m\u001b[1;33m)\u001b[0m\u001b[1;33m\u001b[0m\u001b[1;33m\u001b[0m\u001b[0m\n",
      "\u001b[1;32m<ipython-input-8-af8e3962a3f9>\u001b[0m in \u001b[0;36mroop_page\u001b[1;34m(acodes, input_words)\u001b[0m\n\u001b[0;32m     55\u001b[0m                 \u001b[0mneg\u001b[0m \u001b[1;33m=\u001b[0m \u001b[0mtt\u001b[0m\u001b[1;33m[\u001b[0m\u001b[0mi\u001b[0m\u001b[1;33m]\u001b[0m\u001b[1;33m.\u001b[0m\u001b[0mselect\u001b[0m\u001b[1;33m(\u001b[0m\u001b[1;34m'td > strong'\u001b[0m\u001b[1;33m)\u001b[0m\u001b[1;33m[\u001b[0m\u001b[1;36m1\u001b[0m\u001b[1;33m]\u001b[0m\u001b[1;33m.\u001b[0m\u001b[0mtext\u001b[0m\u001b[1;33m\u001b[0m\u001b[1;33m\u001b[0m\u001b[0m\n\u001b[0;32m     56\u001b[0m \u001b[1;33m\u001b[0m\u001b[0m\n\u001b[1;32m---> 57\u001b[1;33m                 table = pd.DataFrame({'날짜' : [date], \n\u001b[0m\u001b[0;32m     58\u001b[0m                                     \u001b[1;34m'제목'\u001b[0m \u001b[1;33m:\u001b[0m \u001b[1;33m[\u001b[0m\u001b[0mtitle\u001b[0m\u001b[1;33m]\u001b[0m\u001b[1;33m,\u001b[0m\u001b[1;33m\u001b[0m\u001b[1;33m\u001b[0m\u001b[0m\n\u001b[0;32m     59\u001b[0m                                     \u001b[1;34m'글쓴이'\u001b[0m \u001b[1;33m:\u001b[0m \u001b[1;33m[\u001b[0m\u001b[0mwriter\u001b[0m\u001b[1;33m]\u001b[0m\u001b[1;33m,\u001b[0m\u001b[1;33m\u001b[0m\u001b[1;33m\u001b[0m\u001b[0m\n",
      "\u001b[1;32m~\\anaconda3\\lib\\site-packages\\pandas\\core\\frame.py\u001b[0m in \u001b[0;36m__init__\u001b[1;34m(self, data, index, columns, dtype, copy)\u001b[0m\n\u001b[0;32m    527\u001b[0m \u001b[1;33m\u001b[0m\u001b[0m\n\u001b[0;32m    528\u001b[0m         \u001b[1;32melif\u001b[0m \u001b[0misinstance\u001b[0m\u001b[1;33m(\u001b[0m\u001b[0mdata\u001b[0m\u001b[1;33m,\u001b[0m \u001b[0mdict\u001b[0m\u001b[1;33m)\u001b[0m\u001b[1;33m:\u001b[0m\u001b[1;33m\u001b[0m\u001b[1;33m\u001b[0m\u001b[0m\n\u001b[1;32m--> 529\u001b[1;33m             \u001b[0mmgr\u001b[0m \u001b[1;33m=\u001b[0m \u001b[0minit_dict\u001b[0m\u001b[1;33m(\u001b[0m\u001b[0mdata\u001b[0m\u001b[1;33m,\u001b[0m \u001b[0mindex\u001b[0m\u001b[1;33m,\u001b[0m \u001b[0mcolumns\u001b[0m\u001b[1;33m,\u001b[0m \u001b[0mdtype\u001b[0m\u001b[1;33m=\u001b[0m\u001b[0mdtype\u001b[0m\u001b[1;33m)\u001b[0m\u001b[1;33m\u001b[0m\u001b[1;33m\u001b[0m\u001b[0m\n\u001b[0m\u001b[0;32m    530\u001b[0m         \u001b[1;32melif\u001b[0m \u001b[0misinstance\u001b[0m\u001b[1;33m(\u001b[0m\u001b[0mdata\u001b[0m\u001b[1;33m,\u001b[0m \u001b[0mma\u001b[0m\u001b[1;33m.\u001b[0m\u001b[0mMaskedArray\u001b[0m\u001b[1;33m)\u001b[0m\u001b[1;33m:\u001b[0m\u001b[1;33m\u001b[0m\u001b[1;33m\u001b[0m\u001b[0m\n\u001b[0;32m    531\u001b[0m             \u001b[1;32mimport\u001b[0m \u001b[0mnumpy\u001b[0m\u001b[1;33m.\u001b[0m\u001b[0mma\u001b[0m\u001b[1;33m.\u001b[0m\u001b[0mmrecords\u001b[0m \u001b[1;32mas\u001b[0m \u001b[0mmrecords\u001b[0m\u001b[1;33m\u001b[0m\u001b[1;33m\u001b[0m\u001b[0m\n",
      "\u001b[1;32m~\\anaconda3\\lib\\site-packages\\pandas\\core\\internals\\construction.py\u001b[0m in \u001b[0;36minit_dict\u001b[1;34m(data, index, columns, dtype)\u001b[0m\n\u001b[0;32m    285\u001b[0m             \u001b[0marr\u001b[0m \u001b[1;32mif\u001b[0m \u001b[1;32mnot\u001b[0m \u001b[0mis_datetime64tz_dtype\u001b[0m\u001b[1;33m(\u001b[0m\u001b[0marr\u001b[0m\u001b[1;33m)\u001b[0m \u001b[1;32melse\u001b[0m \u001b[0marr\u001b[0m\u001b[1;33m.\u001b[0m\u001b[0mcopy\u001b[0m\u001b[1;33m(\u001b[0m\u001b[1;33m)\u001b[0m \u001b[1;32mfor\u001b[0m \u001b[0marr\u001b[0m \u001b[1;32min\u001b[0m \u001b[0marrays\u001b[0m\u001b[1;33m\u001b[0m\u001b[1;33m\u001b[0m\u001b[0m\n\u001b[0;32m    286\u001b[0m         ]\n\u001b[1;32m--> 287\u001b[1;33m     \u001b[1;32mreturn\u001b[0m \u001b[0marrays_to_mgr\u001b[0m\u001b[1;33m(\u001b[0m\u001b[0marrays\u001b[0m\u001b[1;33m,\u001b[0m \u001b[0mdata_names\u001b[0m\u001b[1;33m,\u001b[0m \u001b[0mindex\u001b[0m\u001b[1;33m,\u001b[0m \u001b[0mcolumns\u001b[0m\u001b[1;33m,\u001b[0m \u001b[0mdtype\u001b[0m\u001b[1;33m=\u001b[0m\u001b[0mdtype\u001b[0m\u001b[1;33m)\u001b[0m\u001b[1;33m\u001b[0m\u001b[1;33m\u001b[0m\u001b[0m\n\u001b[0m\u001b[0;32m    288\u001b[0m \u001b[1;33m\u001b[0m\u001b[0m\n\u001b[0;32m    289\u001b[0m \u001b[1;33m\u001b[0m\u001b[0m\n",
      "\u001b[1;32m~\\anaconda3\\lib\\site-packages\\pandas\\core\\internals\\construction.py\u001b[0m in \u001b[0;36marrays_to_mgr\u001b[1;34m(arrays, arr_names, index, columns, dtype, verify_integrity)\u001b[0m\n\u001b[0;32m     83\u001b[0m \u001b[1;33m\u001b[0m\u001b[0m\n\u001b[0;32m     84\u001b[0m         \u001b[1;31m# don't force copy because getting jammed in an ndarray anyway\u001b[0m\u001b[1;33m\u001b[0m\u001b[1;33m\u001b[0m\u001b[1;33m\u001b[0m\u001b[0m\n\u001b[1;32m---> 85\u001b[1;33m         \u001b[0marrays\u001b[0m \u001b[1;33m=\u001b[0m \u001b[0m_homogenize\u001b[0m\u001b[1;33m(\u001b[0m\u001b[0marrays\u001b[0m\u001b[1;33m,\u001b[0m \u001b[0mindex\u001b[0m\u001b[1;33m,\u001b[0m \u001b[0mdtype\u001b[0m\u001b[1;33m)\u001b[0m\u001b[1;33m\u001b[0m\u001b[1;33m\u001b[0m\u001b[0m\n\u001b[0m\u001b[0;32m     86\u001b[0m \u001b[1;33m\u001b[0m\u001b[0m\n\u001b[0;32m     87\u001b[0m         \u001b[0mcolumns\u001b[0m \u001b[1;33m=\u001b[0m \u001b[0mensure_index\u001b[0m\u001b[1;33m(\u001b[0m\u001b[0mcolumns\u001b[0m\u001b[1;33m)\u001b[0m\u001b[1;33m\u001b[0m\u001b[1;33m\u001b[0m\u001b[0m\n",
      "\u001b[1;32m~\\anaconda3\\lib\\site-packages\\pandas\\core\\internals\\construction.py\u001b[0m in \u001b[0;36m_homogenize\u001b[1;34m(data, index, dtype)\u001b[0m\n\u001b[0;32m    353\u001b[0m                     \u001b[0mval\u001b[0m \u001b[1;33m=\u001b[0m \u001b[0mdict\u001b[0m\u001b[1;33m(\u001b[0m\u001b[0mval\u001b[0m\u001b[1;33m)\u001b[0m\u001b[1;33m\u001b[0m\u001b[1;33m\u001b[0m\u001b[0m\n\u001b[0;32m    354\u001b[0m                 \u001b[0mval\u001b[0m \u001b[1;33m=\u001b[0m \u001b[0mlib\u001b[0m\u001b[1;33m.\u001b[0m\u001b[0mfast_multiget\u001b[0m\u001b[1;33m(\u001b[0m\u001b[0mval\u001b[0m\u001b[1;33m,\u001b[0m \u001b[0moindex\u001b[0m\u001b[1;33m.\u001b[0m\u001b[0m_values\u001b[0m\u001b[1;33m,\u001b[0m \u001b[0mdefault\u001b[0m\u001b[1;33m=\u001b[0m\u001b[0mnp\u001b[0m\u001b[1;33m.\u001b[0m\u001b[0mnan\u001b[0m\u001b[1;33m)\u001b[0m\u001b[1;33m\u001b[0m\u001b[1;33m\u001b[0m\u001b[0m\n\u001b[1;32m--> 355\u001b[1;33m             val = sanitize_array(\n\u001b[0m\u001b[0;32m    356\u001b[0m                 \u001b[0mval\u001b[0m\u001b[1;33m,\u001b[0m \u001b[0mindex\u001b[0m\u001b[1;33m,\u001b[0m \u001b[0mdtype\u001b[0m\u001b[1;33m=\u001b[0m\u001b[0mdtype\u001b[0m\u001b[1;33m,\u001b[0m \u001b[0mcopy\u001b[0m\u001b[1;33m=\u001b[0m\u001b[1;32mFalse\u001b[0m\u001b[1;33m,\u001b[0m \u001b[0mraise_cast_failure\u001b[0m\u001b[1;33m=\u001b[0m\u001b[1;32mFalse\u001b[0m\u001b[1;33m\u001b[0m\u001b[1;33m\u001b[0m\u001b[0m\n\u001b[0;32m    357\u001b[0m             )\n",
      "\u001b[1;32m~\\anaconda3\\lib\\site-packages\\pandas\\core\\construction.py\u001b[0m in \u001b[0;36msanitize_array\u001b[1;34m(data, index, dtype, copy, raise_cast_failure)\u001b[0m\n\u001b[0;32m    544\u001b[0m \u001b[1;33m\u001b[0m\u001b[0m\n\u001b[0;32m    545\u001b[0m         \u001b[0mis_object_or_str_dtype\u001b[0m \u001b[1;33m=\u001b[0m \u001b[0mis_object_dtype\u001b[0m\u001b[1;33m(\u001b[0m\u001b[0mdtype\u001b[0m\u001b[1;33m)\u001b[0m \u001b[1;32mor\u001b[0m \u001b[0mis_string_dtype\u001b[0m\u001b[1;33m(\u001b[0m\u001b[0mdtype\u001b[0m\u001b[1;33m)\u001b[0m\u001b[1;33m\u001b[0m\u001b[1;33m\u001b[0m\u001b[0m\n\u001b[1;32m--> 546\u001b[1;33m         \u001b[1;32mif\u001b[0m \u001b[0mis_object_dtype\u001b[0m\u001b[1;33m(\u001b[0m\u001b[0msubarr\u001b[0m\u001b[1;33m.\u001b[0m\u001b[0mdtype\u001b[0m\u001b[1;33m)\u001b[0m \u001b[1;32mand\u001b[0m \u001b[1;32mnot\u001b[0m \u001b[0mis_object_or_str_dtype\u001b[0m\u001b[1;33m:\u001b[0m\u001b[1;33m\u001b[0m\u001b[1;33m\u001b[0m\u001b[0m\n\u001b[0m\u001b[0;32m    547\u001b[0m             \u001b[0minferred\u001b[0m \u001b[1;33m=\u001b[0m \u001b[0mlib\u001b[0m\u001b[1;33m.\u001b[0m\u001b[0minfer_dtype\u001b[0m\u001b[1;33m(\u001b[0m\u001b[0msubarr\u001b[0m\u001b[1;33m,\u001b[0m \u001b[0mskipna\u001b[0m\u001b[1;33m=\u001b[0m\u001b[1;32mFalse\u001b[0m\u001b[1;33m)\u001b[0m\u001b[1;33m\u001b[0m\u001b[1;33m\u001b[0m\u001b[0m\n\u001b[0;32m    548\u001b[0m             \u001b[1;32mif\u001b[0m \u001b[0minferred\u001b[0m \u001b[1;32min\u001b[0m \u001b[1;33m{\u001b[0m\u001b[1;34m\"interval\"\u001b[0m\u001b[1;33m,\u001b[0m \u001b[1;34m\"period\"\u001b[0m\u001b[1;33m}\u001b[0m\u001b[1;33m:\u001b[0m\u001b[1;33m\u001b[0m\u001b[1;33m\u001b[0m\u001b[0m\n",
      "\u001b[1;32m~\\anaconda3\\lib\\site-packages\\pandas\\core\\dtypes\\common.py\u001b[0m in \u001b[0;36mis_object_dtype\u001b[1;34m(arr_or_dtype)\u001b[0m\n\u001b[0;32m    226\u001b[0m     \u001b[1;32mFalse\u001b[0m\u001b[1;33m\u001b[0m\u001b[1;33m\u001b[0m\u001b[0m\n\u001b[0;32m    227\u001b[0m     \"\"\"\n\u001b[1;32m--> 228\u001b[1;33m     \u001b[1;32mreturn\u001b[0m \u001b[0m_is_dtype_type\u001b[0m\u001b[1;33m(\u001b[0m\u001b[0marr_or_dtype\u001b[0m\u001b[1;33m,\u001b[0m \u001b[0mclasses\u001b[0m\u001b[1;33m(\u001b[0m\u001b[0mnp\u001b[0m\u001b[1;33m.\u001b[0m\u001b[0mobject_\u001b[0m\u001b[1;33m)\u001b[0m\u001b[1;33m)\u001b[0m\u001b[1;33m\u001b[0m\u001b[1;33m\u001b[0m\u001b[0m\n\u001b[0m\u001b[0;32m    229\u001b[0m \u001b[1;33m\u001b[0m\u001b[0m\n\u001b[0;32m    230\u001b[0m \u001b[1;33m\u001b[0m\u001b[0m\n",
      "\u001b[1;32m~\\anaconda3\\lib\\site-packages\\pandas\\core\\dtypes\\common.py\u001b[0m in \u001b[0;36mclasses\u001b[1;34m(*klasses)\u001b[0m\n\u001b[0;32m    185\u001b[0m \u001b[1;32mdef\u001b[0m \u001b[0mclasses\u001b[0m\u001b[1;33m(\u001b[0m\u001b[1;33m*\u001b[0m\u001b[0mklasses\u001b[0m\u001b[1;33m)\u001b[0m \u001b[1;33m->\u001b[0m \u001b[0mCallable\u001b[0m\u001b[1;33m:\u001b[0m\u001b[1;33m\u001b[0m\u001b[1;33m\u001b[0m\u001b[0m\n\u001b[0;32m    186\u001b[0m     \u001b[1;34m\"\"\" evaluate if the tipo is a subclass of the klasses \"\"\"\u001b[0m\u001b[1;33m\u001b[0m\u001b[1;33m\u001b[0m\u001b[0m\n\u001b[1;32m--> 187\u001b[1;33m     \u001b[1;32mreturn\u001b[0m \u001b[1;32mlambda\u001b[0m \u001b[0mtipo\u001b[0m\u001b[1;33m:\u001b[0m \u001b[0missubclass\u001b[0m\u001b[1;33m(\u001b[0m\u001b[0mtipo\u001b[0m\u001b[1;33m,\u001b[0m \u001b[0mklasses\u001b[0m\u001b[1;33m)\u001b[0m\u001b[1;33m\u001b[0m\u001b[1;33m\u001b[0m\u001b[0m\n\u001b[0m\u001b[0;32m    188\u001b[0m \u001b[1;33m\u001b[0m\u001b[0m\n\u001b[0;32m    189\u001b[0m \u001b[1;33m\u001b[0m\u001b[0m\n",
      "\u001b[1;31mKeyboardInterrupt\u001b[0m: "
     ]
    }
   ],
   "source": [
    "root2=  'C:/Users/sosck/OneDrive/바탕 화면/stock_kosdaq_all_csv_now/'\n",
    "for i in code_df.T.values:\n",
    "    print(i[0])\n",
    "    code=i[0]\n",
    "    file1=root2 + code + \"2021-12-31.csv\"\n",
    "    search_keyword=\"\" \n",
    "    data=naver_crawler(root2,code,search_keyword=\"\")\n",
    "    data.to_csv(file1,encoding='utf-8-sig')\n",
    "\n",
    "        \n"
   ]
  },
  {
   "cell_type": "code",
   "execution_count": null,
   "id": "72f2fbff",
   "metadata": {},
   "outputs": [],
   "source": []
  }
 ],
 "metadata": {
  "kernelspec": {
   "display_name": "Python 3",
   "language": "python",
   "name": "python3"
  },
  "language_info": {
   "codemirror_mode": {
    "name": "ipython",
    "version": 3
   },
   "file_extension": ".py",
   "mimetype": "text/x-python",
   "name": "python",
   "nbconvert_exporter": "python",
   "pygments_lexer": "ipython3",
   "version": "3.8.8"
  },
  "toc": {
   "base_numbering": 1,
   "nav_menu": {},
   "number_sections": true,
   "sideBar": true,
   "skip_h1_title": false,
   "title_cell": "Table of Contents",
   "title_sidebar": "Contents",
   "toc_cell": false,
   "toc_position": {},
   "toc_section_display": true,
   "toc_window_display": false
  }
 },
 "nbformat": 4,
 "nbformat_minor": 5
}
