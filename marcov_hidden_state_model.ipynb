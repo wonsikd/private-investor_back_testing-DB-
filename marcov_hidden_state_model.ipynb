{
 "cells": [
  {
   "cell_type": "markdown",
   "metadata": {
    "colab": {
     "base_uri": "https://localhost:8080/"
    },
    "id": "d5ra_3f4fxRO",
    "outputId": "2b610eef-cb74-480f-cb16-5a63aec411bf"
   },
   "source": [
    "# 마르코프 국면전환 모델을 이용한 코스피 시장 국면 관측\n",
    "\n",
    "## 본 코드는 다음의 사이트를 참조하여 제작함을 미리 알려드립니다. 모델의 세부내용은 다음의 사이트에서 확인해주시면 감사하겠습니다.\n",
    "\n",
    "### 출처 : https://sarit-maitra.medium.com/markov-regime-switching-non-linear-model-8ebfdf6eb755"
   ]
  },
  {
   "cell_type": "markdown",
   "metadata": {},
   "source": [
    "# 1. 필요 라이브러리 설치 및 데이터 전처리(KOSPI)\n",
    "\n",
    "## 전처리 과정은 시계열데이터를 노이즈를 감소시키게 하기 위해서 이동평균을 해주었습니다.\n",
    "## 정상성 역시 만족시키기 위해서 차분을 해줍니다. (pct_change 함수)\n"
   ]
  },
  {
   "cell_type": "code",
   "execution_count": 1,
   "metadata": {
    "ExecuteTime": {
     "end_time": "2022-02-28T15:03:51.994369Z",
     "start_time": "2022-02-28T15:03:47.555971Z"
    },
    "colab": {
     "base_uri": "https://localhost:8080/"
    },
    "id": "UryyBXpVf13a",
    "outputId": "20c81158-3826-4128-8c80-067c1ca75bbd"
   },
   "outputs": [],
   "source": [
    "import pandas as pd\n",
    "import numpy as np\n",
    "import plotly.graph_objs as go\n",
    "\n",
    "import datetime\n",
    "import matplotlib.pyplot as plt\n",
    "import seaborn as sns\n",
    "import pandas_datareader.data as web\n",
    "import xlrd\n",
    "# import FinanceDataReader as fdr\n",
    "# from arch import arch_model\n",
    "\n",
    "import statsmodels.api as sm\n",
    "import scipy\n",
    "%matplotlib inline\n",
    "plt.style.use('seaborn')"
   ]
  },
  {
   "cell_type": "code",
   "execution_count": null,
   "metadata": {
    "id": "EJVTVqvQf10v"
   },
   "outputs": [],
   "source": []
  },
  {
   "cell_type": "code",
   "execution_count": 13,
   "metadata": {
    "ExecuteTime": {
     "end_time": "2022-02-28T15:06:33.755941Z",
     "start_time": "2022-02-28T15:06:32.674087Z"
    },
    "colab": {
     "base_uri": "https://localhost:8080/"
    },
    "collapsed": true,
    "id": "OTNMr-dbmtLE",
    "outputId": "298ca2bc-3ec4-4f7d-ab6c-bafc69dccd71"
   },
   "outputs": [
    {
     "ename": "ValueError",
     "evalue": "time data '배당수익률(%)' does not match format '%Y/%m/%d'",
     "output_type": "error",
     "traceback": [
      "\u001b[1;31m---------------------------------------------------------------------------\u001b[0m",
      "\u001b[1;31mValueError\u001b[0m                                Traceback (most recent call last)",
      "\u001b[1;32m<ipython-input-13-c79ad3f5dffc>\u001b[0m in \u001b[0;36m<module>\u001b[1;34m\u001b[0m\n\u001b[0;32m      4\u001b[0m \u001b[1;33m\u001b[0m\u001b[0m\n\u001b[0;32m      5\u001b[0m \u001b[0mheader\u001b[0m\u001b[1;33m=\u001b[0m \u001b[0mdf_Kospi\u001b[0m\u001b[1;33m.\u001b[0m\u001b[0mindex\u001b[0m\u001b[1;33m.\u001b[0m\u001b[0mtolist\u001b[0m\u001b[1;33m(\u001b[0m\u001b[1;33m)\u001b[0m\u001b[1;33m\u001b[0m\u001b[1;33m\u001b[0m\u001b[0m\n\u001b[1;32m----> 6\u001b[1;33m \u001b[0mH\u001b[0m\u001b[1;33m=\u001b[0m \u001b[0mlist\u001b[0m\u001b[1;33m(\u001b[0m\u001b[0mmap\u001b[0m\u001b[1;33m(\u001b[0m\u001b[1;32mlambda\u001b[0m \u001b[0mx\u001b[0m\u001b[1;33m:\u001b[0m \u001b[0mdatetime\u001b[0m\u001b[1;33m.\u001b[0m\u001b[0mdatetime\u001b[0m\u001b[1;33m.\u001b[0m\u001b[0mstrptime\u001b[0m\u001b[1;33m(\u001b[0m\u001b[0mx\u001b[0m\u001b[1;33m,\u001b[0m \u001b[1;34m\"%Y/%m/%d\"\u001b[0m\u001b[1;33m)\u001b[0m\u001b[1;33m,\u001b[0m \u001b[0mheader\u001b[0m\u001b[1;33m)\u001b[0m\u001b[1;33m)\u001b[0m\u001b[1;33m\u001b[0m\u001b[1;33m\u001b[0m\u001b[0m\n\u001b[0m\u001b[0;32m      7\u001b[0m \u001b[0mdf_Kospi\u001b[0m\u001b[1;33m.\u001b[0m\u001b[0mindex\u001b[0m\u001b[1;33m=\u001b[0m \u001b[0mH\u001b[0m\u001b[1;33m\u001b[0m\u001b[1;33m\u001b[0m\u001b[0m\n\u001b[0;32m      8\u001b[0m \u001b[0mdf_Kospi\u001b[0m\u001b[1;33m.\u001b[0m\u001b[0mcolumns\u001b[0m\u001b[1;33m=\u001b[0m\u001b[1;33m[\u001b[0m\u001b[1;34m\"KOSPI\"\u001b[0m\u001b[1;33m]\u001b[0m\u001b[1;33m\u001b[0m\u001b[1;33m\u001b[0m\u001b[0m\n",
      "\u001b[1;32m<ipython-input-13-c79ad3f5dffc>\u001b[0m in \u001b[0;36m<lambda>\u001b[1;34m(x)\u001b[0m\n\u001b[0;32m      4\u001b[0m \u001b[1;33m\u001b[0m\u001b[0m\n\u001b[0;32m      5\u001b[0m \u001b[0mheader\u001b[0m\u001b[1;33m=\u001b[0m \u001b[0mdf_Kospi\u001b[0m\u001b[1;33m.\u001b[0m\u001b[0mindex\u001b[0m\u001b[1;33m.\u001b[0m\u001b[0mtolist\u001b[0m\u001b[1;33m(\u001b[0m\u001b[1;33m)\u001b[0m\u001b[1;33m\u001b[0m\u001b[1;33m\u001b[0m\u001b[0m\n\u001b[1;32m----> 6\u001b[1;33m \u001b[0mH\u001b[0m\u001b[1;33m=\u001b[0m \u001b[0mlist\u001b[0m\u001b[1;33m(\u001b[0m\u001b[0mmap\u001b[0m\u001b[1;33m(\u001b[0m\u001b[1;32mlambda\u001b[0m \u001b[0mx\u001b[0m\u001b[1;33m:\u001b[0m \u001b[0mdatetime\u001b[0m\u001b[1;33m.\u001b[0m\u001b[0mdatetime\u001b[0m\u001b[1;33m.\u001b[0m\u001b[0mstrptime\u001b[0m\u001b[1;33m(\u001b[0m\u001b[0mx\u001b[0m\u001b[1;33m,\u001b[0m \u001b[1;34m\"%Y/%m/%d\"\u001b[0m\u001b[1;33m)\u001b[0m\u001b[1;33m,\u001b[0m \u001b[0mheader\u001b[0m\u001b[1;33m)\u001b[0m\u001b[1;33m)\u001b[0m\u001b[1;33m\u001b[0m\u001b[1;33m\u001b[0m\u001b[0m\n\u001b[0m\u001b[0;32m      7\u001b[0m \u001b[0mdf_Kospi\u001b[0m\u001b[1;33m.\u001b[0m\u001b[0mindex\u001b[0m\u001b[1;33m=\u001b[0m \u001b[0mH\u001b[0m\u001b[1;33m\u001b[0m\u001b[1;33m\u001b[0m\u001b[0m\n\u001b[0;32m      8\u001b[0m \u001b[0mdf_Kospi\u001b[0m\u001b[1;33m.\u001b[0m\u001b[0mcolumns\u001b[0m\u001b[1;33m=\u001b[0m\u001b[1;33m[\u001b[0m\u001b[1;34m\"KOSPI\"\u001b[0m\u001b[1;33m]\u001b[0m\u001b[1;33m\u001b[0m\u001b[1;33m\u001b[0m\u001b[0m\n",
      "\u001b[1;32m~\\anaconda3\\lib\\_strptime.py\u001b[0m in \u001b[0;36m_strptime_datetime\u001b[1;34m(cls, data_string, format)\u001b[0m\n\u001b[0;32m    566\u001b[0m     \"\"\"Return a class cls instance based on the input string and the\n\u001b[0;32m    567\u001b[0m     format string.\"\"\"\n\u001b[1;32m--> 568\u001b[1;33m     \u001b[0mtt\u001b[0m\u001b[1;33m,\u001b[0m \u001b[0mfraction\u001b[0m\u001b[1;33m,\u001b[0m \u001b[0mgmtoff_fraction\u001b[0m \u001b[1;33m=\u001b[0m \u001b[0m_strptime\u001b[0m\u001b[1;33m(\u001b[0m\u001b[0mdata_string\u001b[0m\u001b[1;33m,\u001b[0m \u001b[0mformat\u001b[0m\u001b[1;33m)\u001b[0m\u001b[1;33m\u001b[0m\u001b[1;33m\u001b[0m\u001b[0m\n\u001b[0m\u001b[0;32m    569\u001b[0m     \u001b[0mtzname\u001b[0m\u001b[1;33m,\u001b[0m \u001b[0mgmtoff\u001b[0m \u001b[1;33m=\u001b[0m \u001b[0mtt\u001b[0m\u001b[1;33m[\u001b[0m\u001b[1;33m-\u001b[0m\u001b[1;36m2\u001b[0m\u001b[1;33m:\u001b[0m\u001b[1;33m]\u001b[0m\u001b[1;33m\u001b[0m\u001b[1;33m\u001b[0m\u001b[0m\n\u001b[0;32m    570\u001b[0m     \u001b[0margs\u001b[0m \u001b[1;33m=\u001b[0m \u001b[0mtt\u001b[0m\u001b[1;33m[\u001b[0m\u001b[1;33m:\u001b[0m\u001b[1;36m6\u001b[0m\u001b[1;33m]\u001b[0m \u001b[1;33m+\u001b[0m \u001b[1;33m(\u001b[0m\u001b[0mfraction\u001b[0m\u001b[1;33m,\u001b[0m\u001b[1;33m)\u001b[0m\u001b[1;33m\u001b[0m\u001b[1;33m\u001b[0m\u001b[0m\n",
      "\u001b[1;32m~\\anaconda3\\lib\\_strptime.py\u001b[0m in \u001b[0;36m_strptime\u001b[1;34m(data_string, format)\u001b[0m\n\u001b[0;32m    347\u001b[0m     \u001b[0mfound\u001b[0m \u001b[1;33m=\u001b[0m \u001b[0mformat_regex\u001b[0m\u001b[1;33m.\u001b[0m\u001b[0mmatch\u001b[0m\u001b[1;33m(\u001b[0m\u001b[0mdata_string\u001b[0m\u001b[1;33m)\u001b[0m\u001b[1;33m\u001b[0m\u001b[1;33m\u001b[0m\u001b[0m\n\u001b[0;32m    348\u001b[0m     \u001b[1;32mif\u001b[0m \u001b[1;32mnot\u001b[0m \u001b[0mfound\u001b[0m\u001b[1;33m:\u001b[0m\u001b[1;33m\u001b[0m\u001b[1;33m\u001b[0m\u001b[0m\n\u001b[1;32m--> 349\u001b[1;33m         raise ValueError(\"time data %r does not match format %r\" %\n\u001b[0m\u001b[0;32m    350\u001b[0m                          (data_string, format))\n\u001b[0;32m    351\u001b[0m     \u001b[1;32mif\u001b[0m \u001b[0mlen\u001b[0m\u001b[1;33m(\u001b[0m\u001b[0mdata_string\u001b[0m\u001b[1;33m)\u001b[0m \u001b[1;33m!=\u001b[0m \u001b[0mfound\u001b[0m\u001b[1;33m.\u001b[0m\u001b[0mend\u001b[0m\u001b[1;33m(\u001b[0m\u001b[1;33m)\u001b[0m\u001b[1;33m:\u001b[0m\u001b[1;33m\u001b[0m\u001b[1;33m\u001b[0m\u001b[0m\n",
      "\u001b[1;31mValueError\u001b[0m: time data '배당수익률(%)' does not match format '%Y/%m/%d'"
     ]
    }
   ],
   "source": [
    "fn= \"KOSPI_1995.xlsx\"\n",
    "df_Kospi= pd.read_excel(fn)\n",
    "df_Kospi= df_Kospi.iloc[:,4:].T\n",
    "\n",
    "header= df_Kospi.index.tolist()\n",
    "H= list(map(lambda x: datetime.datetime.strptime(x, \"%Y/%m/%d\"), header))\n",
    "df_Kospi.index= H\n",
    "df_Kospi.columns=[\"KOSPI\"]\n",
    "df_Kospi.dropna(inplace=True)\n",
    "\n",
    "df_Kospi= df_Kospi.loc[\"2001\":\"2021\",:]"
   ]
  },
  {
   "cell_type": "code",
   "execution_count": null,
   "metadata": {
    "ExecuteTime": {
     "end_time": "2022-02-28T15:04:08.252160Z",
     "start_time": "2022-02-28T15:03:53.300Z"
    },
    "colab": {
     "base_uri": "https://localhost:8080/"
    },
    "id": "HV_SDcFx4x-M",
    "outputId": "d28b2d77-8747-4394-e9aa-053a6ea97769"
   },
   "outputs": [],
   "source": [
    "df_Kospi[\"simple_rtn\"]= df_Kospi[\"KOSPI\"].pct_change()\n",
    "input_data=df_Kospi[\"rolling_price\"].pct_change().dropna()"
   ]
  },
  {
   "cell_type": "markdown",
   "metadata": {},
   "source": [
    "## 2. 마르코프 국면 전환 모델 사용\n",
    "\n",
    "### 마르코프 국면은 총 3개로 불황국면 1개, 보통국면1개 ,호황국면 1개로 나누어서 분류되게끔 해주었습니다."
   ]
  },
  {
   "cell_type": "code",
   "execution_count": null,
   "metadata": {
    "ExecuteTime": {
     "end_time": "2022-02-28T15:04:08.258149Z",
     "start_time": "2022-02-28T15:03:53.960Z"
    },
    "colab": {
     "base_uri": "https://localhost:8080/",
     "height": 657
    },
    "id": "TRUMWGF0JOXV",
    "outputId": "2e481565-8547-4eb6-a579-5688a489b6f2"
   },
   "outputs": [],
   "source": [
    "mod_kospi = sm.tsa.MarkovRegression(input_data, k_regimes=4, trend=\"n\", switching_variance=True)\n",
    "res_kospi = mod_kospi.fit()\n",
    "\n",
    "res_kospi.summary()"
   ]
  },
  {
   "cell_type": "code",
   "execution_count": null,
   "metadata": {
    "ExecuteTime": {
     "end_time": "2022-02-28T15:04:08.261711Z",
     "start_time": "2022-02-28T15:03:54.191Z"
    },
    "colab": {
     "base_uri": "https://localhost:8080/",
     "height": 441
    },
    "id": "FbJGPHajJOv0",
    "outputId": "a0459757-6041-4bc5-eed4-a650ab013434"
   },
   "outputs": [],
   "source": [
    "fig, axes = plt.subplots(4, figsize=(12, 6))\n",
    "\n",
    "ax = axes[0]\n",
    "ax.plot(res_kospi.smoothed_marginal_probabilities[0])\n",
    "ax.set(title=\"Smoothed probability of a low-variance regime for stock returns\")\n",
    "\n",
    "ax = axes[1]\n",
    "ax.plot(res_kospi.smoothed_marginal_probabilities[1])\n",
    "ax.set(title=\"Smoothed probability of a high-variance regime for stock returns\")\n",
    "\n",
    "ax = axes[2]\n",
    "ax.plot(res_kospi.smoothed_marginal_probabilities[2])\n",
    "ax.set(title=\"Smoothed probability of a high-variance regime for stock returns\")\n",
    "\n",
    "ax = axes[3]\n",
    "ax.plot(res_kospi.smoothed_marginal_probabilities[3])\n",
    "ax.set(title=\"Smoothed probability of a high-variance regime for stock returns\")\n",
    "\n",
    "\n",
    "fig.tight_layout()"
   ]
  },
  {
   "cell_type": "code",
   "execution_count": null,
   "metadata": {
    "ExecuteTime": {
     "end_time": "2022-02-28T15:04:08.265618Z",
     "start_time": "2022-02-28T15:03:54.398Z"
    },
    "id": "oF6ZRAgcJOtO"
   },
   "outputs": [],
   "source": [
    "df_kospi_prob= res_kospi.smoothed_marginal_probabilities\n",
    "df_kospi_prob.columns=[\"Low_var1\",\"Low_var2\",\"High_var1\",\"High_var2\"]\n",
    "df_kospi_prob= df_kospi_prob.loc[\"2018\":,:]"
   ]
  },
  {
   "cell_type": "code",
   "execution_count": null,
   "metadata": {
    "ExecuteTime": {
     "end_time": "2022-02-28T15:04:08.269619Z",
     "start_time": "2022-02-28T15:03:54.639Z"
    },
    "colab": {
     "base_uri": "https://localhost:8080/",
     "height": 206
    },
    "id": "RpU0u7pgciyP",
    "outputId": "6b93b8f0-58d1-466b-8cca-ed42a31db1b0"
   },
   "outputs": [],
   "source": [
    "df_kospi_prob.head()"
   ]
  },
  {
   "cell_type": "code",
   "execution_count": 14,
   "metadata": {
    "ExecuteTime": {
     "end_time": "2022-02-28T15:07:54.791892Z",
     "start_time": "2022-02-28T15:07:54.775270Z"
    },
    "id": "j0RD4Ny5aIbz"
   },
   "outputs": [],
   "source": [
    "def check_regime2(x):\n",
    "    if x ==\"Low_var1\":\n",
    "        return 0\n",
    "    elif x==\"Low_var2\":\n",
    "        return 0.4\n",
    "    elif x==\"High_var1\":\n",
    "        return 0.7\n",
    "    else:\n",
    "        return 1"
   ]
  },
  {
   "cell_type": "code",
   "execution_count": null,
   "metadata": {
    "ExecuteTime": {
     "end_time": "2022-02-28T15:04:08.277595Z",
     "start_time": "2022-02-28T15:03:55.068Z"
    },
    "id": "7aT3ihd3JOqu"
   },
   "outputs": [],
   "source": [
    "df_test= df_kospi_prob.copy()\n",
    "\n",
    "df_test[\"proba\"]= df_test.apply(lambda x: x.max(), axis=1)\n",
    "df_test[\"multinom\"]= df_test.idxmax(axis=1)"
   ]
  },
  {
   "cell_type": "code",
   "execution_count": null,
   "metadata": {
    "ExecuteTime": {
     "end_time": "2022-02-28T15:04:08.282618Z",
     "start_time": "2022-02-28T15:03:55.228Z"
    },
    "colab": {
     "base_uri": "https://localhost:8080/",
     "height": 206
    },
    "id": "68KqxTCYafWF",
    "outputId": "2fec541d-778f-454f-c77e-432a99c914b8"
   },
   "outputs": [],
   "source": [
    "df_test[\"regime\"]= df_test[\"multinom\"].apply(check_regime2)\n",
    "df_test.head()"
   ]
  },
  {
   "cell_type": "code",
   "execution_count": null,
   "metadata": {
    "ExecuteTime": {
     "end_time": "2022-02-28T15:04:08.286606Z",
     "start_time": "2022-02-28T15:03:55.448Z"
    },
    "colab": {
     "base_uri": "https://localhost:8080/"
    },
    "id": "LGA9urKkMxwO",
    "outputId": "2121bf49-d59e-4952-91f6-964c7c8a4952"
   },
   "outputs": [],
   "source": [
    "df_test.groupby(\"regime\")[\"regime\"].count()"
   ]
  },
  {
   "cell_type": "code",
   "execution_count": null,
   "metadata": {
    "ExecuteTime": {
     "end_time": "2022-02-28T15:04:08.290561Z",
     "start_time": "2022-02-28T15:03:55.778Z"
    },
    "id": "ZMzPQc22Mxtt"
   },
   "outputs": [],
   "source": [
    "df_test_3= df_test.resample(\"W-Mon\").last()"
   ]
  },
  {
   "cell_type": "code",
   "execution_count": null,
   "metadata": {
    "ExecuteTime": {
     "end_time": "2022-02-28T15:04:08.294549Z",
     "start_time": "2022-02-28T15:03:55.998Z"
    },
    "colab": {
     "base_uri": "https://localhost:8080/",
     "height": 206
    },
    "id": "9uon89NTaoO5",
    "outputId": "a7e81050-5641-43db-f7bc-64cfbde39ac1"
   },
   "outputs": [],
   "source": [
    "df_test_3.head()"
   ]
  },
  {
   "cell_type": "code",
   "execution_count": null,
   "metadata": {
    "ExecuteTime": {
     "end_time": "2022-02-28T15:04:08.303565Z",
     "start_time": "2022-02-28T15:03:56.218Z"
    },
    "id": "Ux-KWeJO-dQF"
   },
   "outputs": [],
   "source": [
    "df_test_3.to_csv(\"4regimes_rolling.csv\")"
   ]
  },
  {
   "cell_type": "code",
   "execution_count": null,
   "metadata": {
    "id": "MUQZFE9_at7G"
   },
   "outputs": [],
   "source": []
  }
 ],
 "metadata": {
  "accelerator": "GPU",
  "colab": {
   "name": "MRSW",
   "provenance": []
  },
  "kernelspec": {
   "display_name": "Python 3",
   "language": "python",
   "name": "python3"
  },
  "language_info": {
   "codemirror_mode": {
    "name": "ipython",
    "version": 3
   },
   "file_extension": ".py",
   "mimetype": "text/x-python",
   "name": "python",
   "nbconvert_exporter": "python",
   "pygments_lexer": "ipython3",
   "version": "3.8.8"
  }
 },
 "nbformat": 4,
 "nbformat_minor": 1
}
